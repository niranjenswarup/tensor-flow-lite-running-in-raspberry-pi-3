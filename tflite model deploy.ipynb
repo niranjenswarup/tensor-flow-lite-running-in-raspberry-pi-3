{
 "cells": [
  {
   "cell_type": "code",
   "execution_count": 2,
   "id": "filled-aspect",
   "metadata": {},
   "outputs": [],
   "source": [
    "import tensorflow as tf\n",
    "import numpy as np\n",
    "import cv2\n",
    "\n",
    "model_path = r\"model.tflite\"\n",
    "interpreter = tf.lite.Interpreter(model_path)\n",
    "interpreter.allocate_tensors()\n",
    "input_details = interpreter.get_input_details()\n",
    "output_details= interpreter.get_output_details()\n",
    "interpreter.allocate_tensors()\n",
    "height = input_details[0]['shape'][1]\n",
    "width = input_details[0]['shape'][2]\n",
    "\n",
    "def predict(interpreter,data):\n",
    "    interpreter.set_tensor(input_details[0]['index'],data)\n",
    "    interpreter.invoke()\n",
    "    result= interpreter.get_tensor(output_details[0]['index'])\n",
    "    result=int(result)\n",
    "    if result==0:\n",
    "            cv2.rectangle(img,(30,5),(550,450),(0,255,0),2)\n",
    "            cv2.rectangle(img,(30,5),(200,50),(0,255,0),-1)\n",
    "            cv2.putText(img,\"PASS\",(30,35),cv2.FONT_HERSHEY_SIMPLEX,0.8,(50,50,80),2)\n",
    "    else:\n",
    "            cv2.rectangle(img,(30,5),(550,450),(0,25,255),2)\n",
    "            cv2.rectangle(img,(30,5),(200,50),(0,0,255),-1)\n",
    "            cv2.putText(img,\"REJECT\",(30,35),cv2.FONT_HERSHEY_SIMPLEX,0.8,(250,255,2550),5)\n",
    "\n",
    "cap = cv2.VideoCapture(\"reject.avi\")\n",
    "\n",
    "while(cap.isOpened()):\n",
    "    ret, img= cap.read()\n",
    "    if ret==True:\n",
    "        resize=cv2.resize(img,(width,height))\n",
    "        array= np.array(resize,dtype=np.float32)\n",
    "        new= np.expand_dims(array, axis=0)\n",
    "        input_data=np.vstack([new])\n",
    "        predict(interpreter,input_data)\n",
    "        size=(width,height)\n",
    "        result = cv2.VideoWriter('filename.avi',cv2.VideoWriter_fourcc(*'MJPG'), 10, size) \n",
    "        cv2.imshow('DETECTION',img)\n",
    "        if cv2.waitKey(100) & 0xFF == ord('q'):\n",
    "            break\n",
    "    else:\n",
    "        break\n",
    "\n",
    "cap.release()\n",
    "cv2.destroyAllWindows()"
   ]
  },
  {
   "cell_type": "code",
   "execution_count": 3,
   "id": "numerous-adelaide",
   "metadata": {},
   "outputs": [
    {
     "name": "stdout",
     "output_type": "stream",
     "text": [
      "0\n"
     ]
    }
   ],
   "source": [
    "import tensorflow as tf\n",
    "import numpy as np\n",
    "import cv2\n",
    "import os\n",
    "\n",
    "model_path = r\"model.tflite\"\n",
    "interpreter = tf.lite.Interpreter(model_path)\n",
    "interpreter.allocate_tensors()\n",
    "input_details = interpreter.get_input_details()\n",
    "output_details= interpreter.get_output_details()\n",
    "interpreter.allocate_tensors()\n",
    "height = input_details[0]['shape'][1]\n",
    "width = input_details[0]['shape'][2]\n",
    "\n",
    "def predict(model,file):\n",
    "    interpreter.set_tensor(input_details[0]['index'],file)\n",
    "    interpreter.invoke()\n",
    "    result= interpreter.get_tensor(output_details[0]['index'])\n",
    "    probability = int(result)*100\n",
    "    print(probability)\n",
    "    result=int(result)\n",
    "    if result==0:\n",
    "            cv2.rectangle(img,(30,5),(550,450),(0,255,0),2)\n",
    "            cv2.rectangle(img,(30,5),(200,50),(0,255,0),-1)\n",
    "            cv2.putText(img,\"PASS\",(30,35),cv2.FONT_HERSHEY_SIMPLEX,0.8,(50,50,80),2)\n",
    "            \n",
    "    else:\n",
    "            cv2.rectangle(img,(30,5),(550,450),(0,25,255),2)\n",
    "            cv2.rectangle(img,(30,5),(200,50),(0,0,255),-1)\n",
    "            cv2.putText(img,\"REJECT\",(30,35),cv2.FONT_HERSHEY_SIMPLEX,0.8,(250,255,2550),5)\n",
    "\n",
    "img=cv2.imread(\"Image00000.BMP\")\n",
    "resize=cv2.resize(img,(width,height))\n",
    "array= np.array(resize,dtype=np.float32)\n",
    "new= np.expand_dims(array, axis=0)\n",
    "input_data=np.vstack([new])\n",
    "predict(interpreter,input_data)\n",
    "cv2.imshow('DETECTION',img)\n",
    "cv2.waitKey(0)\n",
    "cv2.destroyAllWindows()"
   ]
  },
  {
   "cell_type": "code",
   "execution_count": null,
   "id": "religious-penny",
   "metadata": {},
   "outputs": [],
   "source": []
  }
 ],
 "metadata": {
  "kernelspec": {
   "display_name": "Python 3",
   "language": "python",
   "name": "python3"
  },
  "language_info": {
   "codemirror_mode": {
    "name": "ipython",
    "version": 3
   },
   "file_extension": ".py",
   "mimetype": "text/x-python",
   "name": "python",
   "nbconvert_exporter": "python",
   "pygments_lexer": "ipython3",
   "version": "3.8.5"
  }
 },
 "nbformat": 4,
 "nbformat_minor": 5
}
